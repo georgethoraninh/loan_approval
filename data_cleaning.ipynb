{
 "cells": [
  {
   "cell_type": "markdown",
   "metadata": {},
   "source": [
    "# Data Cleaning"
   ]
  },
  {
   "cell_type": "markdown",
   "metadata": {},
   "source": [
    "The goal of the analysis is to produce a model which can predict if a bank account should be approved for a loan or not. For the purposes of this data cleaning notebook, we want to define an account level of granularity to use in our analysis notebook.\n",
    "\n",
    "The dataset is from a Czech bank and their client information is separated into 8 tables:\n",
    "\n",
    "- **account** - static characteristics of an account\n",
    "- **client** - characteristics of a client\n",
    "- **disposition** - relationship between a client and their account\n",
    "- **permanent order** - characteristics of a payment\n",
    "- **transaction** - transaction on an account\n",
    "- **loan** - loan granted for a given account\n",
    "- **credit card** - credit card issued to an account\n",
    "- **demographic** - demographic characteristics of a district\n",
    "\n",
    "More information on this dataset can be found here: \n",
    "[Financial Dataset](https://sorry.vse.cz/~berka/challenge/pkdd1999/berka.htm)"
   ]
  },
  {
   "cell_type": "code",
   "execution_count": 187,
   "metadata": {},
   "outputs": [],
   "source": [
    "import pandas as pd\n",
    "import numpy as np\n",
    "import matplotlib.pyplot as plt \n",
    "# import seaborn as sns\n",
    "# import pymysql\n",
    "import datetime\n",
    "plt.style.use('fivethirtyeight')\n",
    "#plt.style.use('default')\n",
    "from functools import reduce\n",
    "pd.set_option('display.max_columns',None)\n",
    "pd.set_option('display.min_rows', None)\n",
    "from glob import glob"
   ]
  },
  {
   "cell_type": "markdown",
   "metadata": {},
   "source": [
    "## Data Import"
   ]
  },
  {
   "cell_type": "code",
   "execution_count": 4,
   "metadata": {},
   "outputs": [],
   "source": [
    "df_account = pd.read_csv('csv_files/raw_csv/df_account.csv', low_memory = False) \n",
    "df_client = pd.read_csv('csv_files/raw_csv/df_client.csv', low_memory = False)\n",
    "df_disp = pd.read_csv('csv_files/raw_csv/df_disp.csv', low_memory = False)\n",
    "df_order = pd.read_csv('csv_files/raw_csv/df_order.csv', low_memory = False)\n",
    "df_trans = pd.read_csv('csv_files/raw_csv/df_trans.csv', low_memory = False)\n",
    "df_loan = pd.read_csv('csv_files/raw_csv/df_loan.csv', low_memory = False)\n",
    "df_card = pd.read_csv('csv_files/raw_csv/df_card.csv', low_memory = False)\n",
    "df_district = pd.read_csv('csv_files/raw_csv/df_district.csv', low_memory = False)"
   ]
  },
  {
   "cell_type": "markdown",
   "metadata": {},
   "source": [
    "There are 8 different raw CSV files that we need to manipulate. I decided to create this function to give an overview of a data frame as we'll be investigating several dataframes."
   ]
  },
  {
   "cell_type": "code",
   "execution_count": 58,
   "metadata": {},
   "outputs": [],
   "source": [
    "def df_overview(df):\n",
    "    \n",
    "    '''\n",
    "    Outputs an overview of the dataframe:\n",
    "    - Sample of dataframe\n",
    "    - Shape\n",
    "    - Data types\n",
    "    - Missing values (%)\n",
    "    - Descriptive statistics\n",
    "    '''\n",
    "    print('\\nShape of dataframe:\\n')\n",
    "    print(f'{df.shape[0]} rows | {df.shape[1]} columns')\n",
    "    print('-' * 42)\n",
    "    \n",
    "    print('\\nSample of dataframe:\\n')\n",
    "    print(df.head())\n",
    "    print('-' * 42)\n",
    "    \n",
    "    print('\\nData types of dataframe:\\n')\n",
    "    print(df.dtypes)\n",
    "    print('-' * 42)\n",
    "    \n",
    "    print('\\nMissing values by % in dataframe\\n')\n",
    "    print(df.isnull().sum()*100/df.shape[0])\n",
    "    print('-' * 42)\n",
    "    \n",
    "    print('\\nDecriptive statistics of dataframe:\\n')\n",
    "    print(df.describe())\n",
    "    print('-' * 42)"
   ]
  },
  {
   "cell_type": "code",
   "execution_count": 59,
   "metadata": {},
   "outputs": [
    {
     "name": "stdout",
     "output_type": "stream",
     "text": [
      "\n",
      "Shape of dataframe:\n",
      "\n",
      "4500 rows | 4 columns\n",
      "------------------------------------------\n",
      "\n",
      "Sample of dataframe:\n",
      "\n",
      "   account_id  district_id         frequency        date\n",
      "0           1           18  POPLATEK MESICNE  1995-03-24\n",
      "1           2            1  POPLATEK MESICNE  1993-02-26\n",
      "2           3            5  POPLATEK MESICNE  1997-07-07\n",
      "3           4           12  POPLATEK MESICNE  1996-02-21\n",
      "4           5           15  POPLATEK MESICNE  1997-05-30\n",
      "------------------------------------------\n",
      "\n",
      "Data types of dataframe:\n",
      "\n",
      "account_id      int64\n",
      "district_id     int64\n",
      "frequency      object\n",
      "date           object\n",
      "dtype: object\n",
      "------------------------------------------\n",
      "\n",
      "Missing values by % in dataframe\n",
      "\n",
      "account_id     0.0\n",
      "district_id    0.0\n",
      "frequency      0.0\n",
      "date           0.0\n",
      "dtype: float64\n",
      "------------------------------------------\n",
      "\n",
      "Decriptive statistics of dataframe:\n",
      "\n",
      "         account_id  district_id\n",
      "count   4500.000000  4500.000000\n",
      "mean    2786.067556    37.310444\n",
      "std     2313.811984    25.177217\n",
      "min        1.000000     1.000000\n",
      "25%     1182.750000    13.000000\n",
      "50%     2368.000000    38.000000\n",
      "75%     3552.250000    60.000000\n",
      "max    11382.000000    77.000000\n",
      "------------------------------------------\n"
     ]
    }
   ],
   "source": [
    "df_overview(df_account)"
   ]
  },
  {
   "cell_type": "markdown",
   "metadata": {},
   "source": [
    "Changes that need to be made:\n",
    "- fields in the `frequency` column\n",
    "- change data type of `date` column"
   ]
  },
  {
   "cell_type": "code",
   "execution_count": 60,
   "metadata": {},
   "outputs": [],
   "source": [
    "# Let's convert to English for better understanding.\n",
    "df_account['frequency'].replace('POPLATEK MESICNE', 'monthly', inplace=True)\n",
    "df_account['frequency'].replace('POPLATEK TYDNE', 'weekly', inplace=True)\n",
    "df_account['frequency'].replace('POPLATEK PO OBRATU', 'after_trans', inplace=True)\n",
    "df_account.rename(columns = {'frequency':'stmt_frq'}, inplace=True) #statement frequency"
   ]
  },
  {
   "cell_type": "markdown",
   "metadata": {},
   "source": [
    "Frequency of an account is defined as: \"frequency of issuance of statements\"\n",
    "- \"POPLATEK MESICNE\" stands for monthly issuance\n",
    "- \"POPLATEK TYDNE\" stands for weekly issuance\n",
    "- \"POPLATEK PO OBRATU\" stands for issuance after transaction"
   ]
  },
  {
   "cell_type": "code",
   "execution_count": 62,
   "metadata": {},
   "outputs": [],
   "source": [
    "# Convert date to a datetime type variable\n",
    "df_account['date'] = pd.to_datetime(df_account['date'])"
   ]
  },
  {
   "cell_type": "code",
   "execution_count": 67,
   "metadata": {},
   "outputs": [
    {
     "name": "stdout",
     "output_type": "stream",
     "text": [
      "\n",
      "Shape of dataframe:\n",
      "\n",
      "5369 rows | 4 columns\n",
      "------------------------------------------\n",
      "\n",
      "Sample of dataframe:\n",
      "\n",
      "   client_id gender  birth_date  district_id\n",
      "0          1      F  1970-12-13           18\n",
      "1          2      M  1945-02-04            1\n",
      "2          3      F  1940-10-09            1\n",
      "3          4      M  1956-12-01            5\n",
      "4          5      F  1960-07-03            5\n",
      "------------------------------------------\n",
      "\n",
      "Data types of dataframe:\n",
      "\n",
      "client_id       int64\n",
      "gender         object\n",
      "birth_date     object\n",
      "district_id     int64\n",
      "dtype: object\n",
      "------------------------------------------\n",
      "\n",
      "Missing values by % in dataframe\n",
      "\n",
      "client_id      0.0\n",
      "gender         0.0\n",
      "birth_date     0.0\n",
      "district_id    0.0\n",
      "dtype: float64\n",
      "------------------------------------------\n",
      "\n",
      "Decriptive statistics of dataframe:\n",
      "\n",
      "          client_id  district_id\n",
      "count   5369.000000  5369.000000\n",
      "mean    3359.011920    37.310114\n",
      "std     2832.911984    25.043690\n",
      "min        1.000000     1.000000\n",
      "25%     1418.000000    14.000000\n",
      "50%     2839.000000    38.000000\n",
      "75%     4257.000000    60.000000\n",
      "max    13998.000000    77.000000\n",
      "------------------------------------------\n"
     ]
    }
   ],
   "source": [
    "df_overview(df_client)"
   ]
  },
  {
   "cell_type": "markdown",
   "metadata": {},
   "source": [
    "Changes that need to be made:\n",
    "- change data type of `birth_date` column"
   ]
  },
  {
   "cell_type": "code",
   "execution_count": 68,
   "metadata": {},
   "outputs": [],
   "source": [
    "# Convert date to a datetime type variable\n",
    "df_client['birth_date'] = pd.to_datetime(df_client['birth_date'])"
   ]
  },
  {
   "cell_type": "code",
   "execution_count": 72,
   "metadata": {},
   "outputs": [
    {
     "name": "stdout",
     "output_type": "stream",
     "text": [
      "\n",
      "Shape of dataframe:\n",
      "\n",
      "5369 rows | 4 columns\n",
      "------------------------------------------\n",
      "\n",
      "Sample of dataframe:\n",
      "\n",
      "   disp_id  client_id  account_id       type\n",
      "0        1          1           1      OWNER\n",
      "1        2          2           2      OWNER\n",
      "2        3          3           2  DISPONENT\n",
      "3        4          4           3      OWNER\n",
      "4        5          5           3  DISPONENT\n",
      "------------------------------------------\n",
      "\n",
      "Data types of dataframe:\n",
      "\n",
      "disp_id        int64\n",
      "client_id      int64\n",
      "account_id     int64\n",
      "type          object\n",
      "dtype: object\n",
      "------------------------------------------\n",
      "\n",
      "Missing values by % in dataframe\n",
      "\n",
      "disp_id       0.0\n",
      "client_id     0.0\n",
      "account_id    0.0\n",
      "type          0.0\n",
      "dtype: float64\n",
      "------------------------------------------\n",
      "\n",
      "Decriptive statistics of dataframe:\n",
      "\n",
      "            disp_id     client_id    account_id\n",
      "count   5369.000000   5369.000000   5369.000000\n",
      "mean    3337.097970   3359.011920   2767.496927\n",
      "std     2770.418826   2832.911984   2307.843630\n",
      "min        1.000000      1.000000      1.000000\n",
      "25%     1418.000000   1418.000000   1178.000000\n",
      "50%     2839.000000   2839.000000   2349.000000\n",
      "75%     4257.000000   4257.000000   3526.000000\n",
      "max    13690.000000  13998.000000  11382.000000\n",
      "------------------------------------------\n"
     ]
    }
   ],
   "source": [
    "df_overview(df_disp)"
   ]
  },
  {
   "cell_type": "markdown",
   "metadata": {},
   "source": [
    "Note: Multiple clients can be on one account."
   ]
  },
  {
   "cell_type": "code",
   "execution_count": 73,
   "metadata": {},
   "outputs": [
    {
     "name": "stdout",
     "output_type": "stream",
     "text": [
      "\n",
      "Shape of dataframe:\n",
      "\n",
      "6471 rows | 6 columns\n",
      "------------------------------------------\n",
      "\n",
      "Sample of dataframe:\n",
      "\n",
      "   order_id  account_id bank_to  account_to  amount k_symbol\n",
      "0     29401           1      YZ    87144583  2452.0     SIPO\n",
      "1     29402           2      ST    89597016  3372.7     UVER\n",
      "2     29403           2      QR    13943797  7266.0     SIPO\n",
      "3     29404           3      WX    83084338  1135.0     SIPO\n",
      "4     29405           3      CD    24485939   327.0      NaN\n",
      "------------------------------------------\n",
      "\n",
      "Data types of dataframe:\n",
      "\n",
      "order_id        int64\n",
      "account_id      int64\n",
      "bank_to        object\n",
      "account_to      int64\n",
      "amount        float64\n",
      "k_symbol       object\n",
      "dtype: object\n",
      "------------------------------------------\n",
      "\n",
      "Missing values by % in dataframe\n",
      "\n",
      "order_id       0.000000\n",
      "account_id     0.000000\n",
      "bank_to        0.000000\n",
      "account_to     0.000000\n",
      "amount         0.000000\n",
      "k_symbol      21.310462\n",
      "dtype: float64\n",
      "------------------------------------------\n",
      "\n",
      "Decriptive statistics of dataframe:\n",
      "\n",
      "           order_id    account_id    account_to        amount\n",
      "count   6471.000000   6471.000000  6.471000e+03   6471.000000\n",
      "mean   33778.197497   2962.302890  4.939904e+07   3280.635698\n",
      "std     3737.681949   2518.503228  2.888356e+07   2714.475335\n",
      "min    29401.000000      1.000000  3.990000e+02      1.000000\n",
      "25%    31187.500000   1223.000000  2.415918e+07   1241.500000\n",
      "50%    32988.000000   2433.000000  4.975606e+07   2596.000000\n",
      "75%    34785.500000   3645.500000  7.400045e+07   4613.500000\n",
      "max    46338.000000  11362.000000  9.999420e+07  14882.000000\n",
      "------------------------------------------\n"
     ]
    }
   ],
   "source": [
    "df_overview(df_order)"
   ]
  },
  {
   "cell_type": "markdown",
   "metadata": {},
   "source": [
    "Changes that need to be made:\n",
    "\n",
    "- fields in the `k_symbol` column\n",
    "    - 21% of the fields are missing"
   ]
  },
  {
   "cell_type": "code",
   "execution_count": 76,
   "metadata": {},
   "outputs": [],
   "source": [
    "# Let's convert k_symbol to English\n",
    "df_order['k_symbol'].replace('POJISTNE', 'insurance', inplace=True)\n",
    "df_order['k_symbol'].replace('SIPO', 'household', inplace=True)\n",
    "df_order['k_symbol'].replace('LEASING', 'leasing', inplace=True)\n",
    "df_order['k_symbol'].replace('UVER', 'loan', inplace=True)\n",
    "df_order['k_symbol'].replace(np.nan, 'unknown', inplace=True)\n",
    "df_order.rename(columns = {'k_symbol':'order_payment_type'}, inplace=True) "
   ]
  },
  {
   "cell_type": "markdown",
   "metadata": {},
   "source": [
    "`k_symbol` is defined as: \"characterization of the payment\"\n",
    "- \"POJISTNE\" stands for insurance payment\n",
    "- \"SIPO\" stands for household\n",
    "- \"LEASING\" stands for leasing\n",
    "- \"UVER\" stands for loan payment"
   ]
  },
  {
   "cell_type": "code",
   "execution_count": 92,
   "metadata": {},
   "outputs": [
    {
     "data": {
      "text/plain": [
       "household    54.118374\n",
       "unknown      21.310462\n",
       "loan         11.080204\n",
       "insurance     8.221295\n",
       "leasing       5.269665\n",
       "Name: order_payment_type, dtype: float64"
      ]
     },
     "execution_count": 92,
     "metadata": {},
     "output_type": "execute_result"
    }
   ],
   "source": [
    "df_order['order_payment_type'].value_counts(normalize=True) * 100"
   ]
  },
  {
   "cell_type": "markdown",
   "metadata": {},
   "source": [
    "We have 21% of missing values as `unknown` for now and will decide on how to handles them once we have a proper dataset to work with."
   ]
  },
  {
   "cell_type": "code",
   "execution_count": 93,
   "metadata": {},
   "outputs": [
    {
     "name": "stdout",
     "output_type": "stream",
     "text": [
      "\n",
      "Shape of dataframe:\n",
      "\n",
      "1056320 rows | 10 columns\n",
      "------------------------------------------\n",
      "\n",
      "Sample of dataframe:\n",
      "\n",
      "   trans_id  account_id        date    type      operation  amount  balance  \\\n",
      "0         1           1  1995-03-24  PRIJEM          VKLAD    1000     1000   \n",
      "1         5           1  1995-04-13  PRIJEM  PREVOD Z UCTU    3679     4679   \n",
      "2         6           1  1995-05-13  PRIJEM  PREVOD Z UCTU    3679    20977   \n",
      "3         7           1  1995-06-13  PRIJEM  PREVOD Z UCTU    3679    26835   \n",
      "4         8           1  1995-07-13  PRIJEM  PREVOD Z UCTU    3679    30415   \n",
      "\n",
      "  k_symbol bank     account  \n",
      "0      NaN  NaN         NaN  \n",
      "1      NaN   AB  41403269.0  \n",
      "2      NaN   AB  41403269.0  \n",
      "3      NaN   AB  41403269.0  \n",
      "4      NaN   AB  41403269.0  \n",
      "------------------------------------------\n",
      "\n",
      "Data types of dataframe:\n",
      "\n",
      "trans_id        int64\n",
      "account_id      int64\n",
      "date           object\n",
      "type           object\n",
      "operation      object\n",
      "amount          int64\n",
      "balance         int64\n",
      "k_symbol       object\n",
      "bank           object\n",
      "account       float64\n",
      "dtype: object\n",
      "------------------------------------------\n",
      "\n",
      "Missing values by % in dataframe\n",
      "\n",
      "trans_id       0.000000\n",
      "account_id     0.000000\n",
      "date           0.000000\n",
      "type           0.000000\n",
      "operation     17.335088\n",
      "amount         0.000000\n",
      "balance        0.000000\n",
      "k_symbol      45.618847\n",
      "bank          74.107467\n",
      "account       72.036031\n",
      "dtype: float64\n",
      "------------------------------------------\n",
      "\n",
      "Decriptive statistics of dataframe:\n",
      "\n",
      "           trans_id    account_id        amount       balance       account\n",
      "count  1.056320e+06  1.056320e+06  1.056320e+06  1.056320e+06  2.953890e+05\n",
      "mean   1.335311e+06  2.936867e+03  5.924211e+03  3.851838e+04  4.567092e+07\n",
      "std    1.227487e+06  2.477345e+03  9.522698e+03  2.211787e+04  3.066340e+07\n",
      "min    1.000000e+00  1.000000e+00  0.000000e+00 -4.112600e+04  0.000000e+00\n",
      "25%    4.302628e+05  1.204000e+03  1.360000e+02  2.240300e+04  1.782858e+07\n",
      "50%    8.585065e+05  2.434000e+03  2.100000e+03  3.314300e+04  4.575095e+07\n",
      "75%    2.060979e+06  3.660000e+03  6.800000e+03  4.960400e+04  7.201341e+07\n",
      "max    3.682987e+06  1.138200e+04  8.740000e+04  2.096370e+05  9.999420e+07\n",
      "------------------------------------------\n"
     ]
    }
   ],
   "source": [
    "df_overview(df_trans)"
   ]
  },
  {
   "cell_type": "markdown",
   "metadata": {},
   "source": [
    "There are 4 columns with missing values:\n",
    "- `operation` - mode of transaction\n",
    "- `k_symbol` - characterization of the transaction\n",
    "- `bank` - bank of the partner\n",
    "- `account` - account of the partner\n",
    "\n",
    "We won't be using `bank` and `account` as they have over 70% of rows missing and non-relevant information.\n",
    "\n",
    "\n",
    "`type` - type of transaction\n",
    "- \"PRIJEM\" stands for credit\n",
    "- \"VYDAJ\" stands for withdrawal\n",
    "\n",
    "`operation` - mode of transaction\n",
    "- \"VYBER KARTOU\" credit card withdrawal\n",
    "- \"VKLAD\" credit in cash\n",
    "- \"PREVOD Z UCTU\" collection from another bank\n",
    "- \"VYBER\" withdrawal in cash\n",
    "- \"PREVOD NA UCET\" remittance to another bank\n",
    "\n",
    "`k_symbol` - characterization of transaction\n",
    "- \"POJISTNE\" stands for insurrance payment\n",
    "- \"SLUZBY\" stands for payment for statement\n",
    "- \"UROK\" stands for interest credited\n",
    "- \"SANKC. UROK\" sanction interest if negative balance\n",
    "- \"SIPO\" stands for household\n",
    "- \"DUCHOD\" stands for old-age pension\n",
    "- \"UVER\" stands for loan payment"
   ]
  },
  {
   "cell_type": "code",
   "execution_count": 113,
   "metadata": {},
   "outputs": [],
   "source": [
    "# Replace names for type\n",
    "df_trans['type'].replace('PRIJEM', 'credit', inplace=True)\n",
    "df_trans['type'].replace('VYDAJ', 'withdrawal', inplace=True)\n",
    "df_trans.rename(columns = {'type':'trans_type'}, inplace=True) \n",
    "\n",
    "# Replace names for operation\n",
    "df_trans['operation'].replace('VYBER KARTOU', 'cc_withdrawal', inplace=True) #credit card withdrawal\n",
    "df_trans['operation'].replace('VKLAD', 'c_cash', inplace=True) #credit in cash\n",
    "df_trans['operation'].replace('PREVOD Z UCTU', 'col_bank', inplace=True) #collection from another bank\n",
    "df_trans['operation'].replace('VYBER', 'withdrawal_c', inplace=True) #withdrawal in cash\n",
    "df_trans['operation'].replace('PREVOD NA UCET', 'remittance', inplace=True) #withdrawal in cash\n",
    "df_trans['operation'].replace(np.nan, 'unknown', inplace=True)\n",
    "\n",
    "# Replace names for k_symbol\n",
    "df_trans['k_symbol'].replace('POJISTNE', 'insurance', inplace=True) \n",
    "df_trans['k_symbol'].replace('SLUZBY', 'statement', inplace=True) \n",
    "df_trans['k_symbol'].replace('UROK', 'int_cred', inplace=True) #interest credited\n",
    "df_trans['k_symbol'].replace('SANKC. UROK', 'sanc_int', inplace=True) #sanction interest if negative balance\n",
    "df_trans['k_symbol'].replace('SIPO', 'household', inplace=True) \n",
    "df_trans['k_symbol'].replace('DUCHOD', 'pension', inplace=True) \n",
    "df_trans['k_symbol'].replace('UVER', 'loan', inplace=True) \n",
    "df_trans['k_symbol'].replace(np.nan, 'unknown', inplace=True)\n",
    "df_trans['k_symbol'].replace(' ', 'unknown', inplace=True)\n",
    "df_trans.rename(columns = {'k_symbol':'trans_payment_type'}, inplace=True) "
   ]
  },
  {
   "cell_type": "code",
   "execution_count": 114,
   "metadata": {},
   "outputs": [
    {
     "data": {
      "text/plain": [
       "withdrawal_c     41.172940\n",
       "remittance       19.717794\n",
       "unknown          17.335088\n",
       "c_cash           14.838591\n",
       "col_bank          6.174833\n",
       "cc_withdrawal     0.760754\n",
       "Name: operation, dtype: float64"
      ]
     },
     "execution_count": 114,
     "metadata": {},
     "output_type": "execute_result"
    }
   ],
   "source": [
    "df_trans['operation'].value_counts(normalize=True) * 100"
   ]
  },
  {
   "cell_type": "markdown",
   "metadata": {},
   "source": [
    "We have 17% of mode of transactions that are missing values as `unknown`."
   ]
  },
  {
   "cell_type": "code",
   "execution_count": 116,
   "metadata": {},
   "outputs": [
    {
     "data": {
      "text/plain": [
       "unknown      50.677257\n",
       "int_cred     17.335088\n",
       "statement    14.752348\n",
       "household    11.177011\n",
       "pension       2.872046\n",
       "insurance     1.751363\n",
       "loan          1.285595\n",
       "sanc_int      0.149292\n",
       "Name: trans_payment_type, dtype: float64"
      ]
     },
     "execution_count": 116,
     "metadata": {},
     "output_type": "execute_result"
    }
   ],
   "source": [
    "df_trans['trans_payment_type'].value_counts(normalize=True) * 100"
   ]
  },
  {
   "cell_type": "markdown",
   "metadata": {},
   "source": [
    "We have 51% of characterization of transactions that are missing values as `unknown` and may consider dropping this variable if it provides no high information."
   ]
  },
  {
   "cell_type": "code",
   "execution_count": 119,
   "metadata": {},
   "outputs": [],
   "source": [
    "# Convert date to a datetime type variable\n",
    "df_trans['date'] = pd.to_datetime(df_trans['date'])"
   ]
  },
  {
   "cell_type": "code",
   "execution_count": 121,
   "metadata": {},
   "outputs": [
    {
     "name": "stdout",
     "output_type": "stream",
     "text": [
      "\n",
      "Shape of dataframe:\n",
      "\n",
      "682 rows | 7 columns\n",
      "------------------------------------------\n",
      "\n",
      "Sample of dataframe:\n",
      "\n",
      "   loan_id  account_id        date  amount  duration  payments status\n",
      "0     4959           2  1994-01-05   80952        24    3373.0      A\n",
      "1     4961          19  1996-04-29   30276        12    2523.0      B\n",
      "2     4962          25  1997-12-08   30276        12    2523.0      A\n",
      "3     4967          37  1998-10-14  318480        60    5308.0      D\n",
      "4     4968          38  1998-04-19  110736        48    2307.0      C\n",
      "------------------------------------------\n",
      "\n",
      "Data types of dataframe:\n",
      "\n",
      "loan_id         int64\n",
      "account_id      int64\n",
      "date           object\n",
      "amount          int64\n",
      "duration        int64\n",
      "payments      float64\n",
      "status         object\n",
      "dtype: object\n",
      "------------------------------------------\n",
      "\n",
      "Missing values by % in dataframe\n",
      "\n",
      "loan_id       0.0\n",
      "account_id    0.0\n",
      "date          0.0\n",
      "amount        0.0\n",
      "duration      0.0\n",
      "payments      0.0\n",
      "status        0.0\n",
      "dtype: float64\n",
      "------------------------------------------\n",
      "\n",
      "Decriptive statistics of dataframe:\n",
      "\n",
      "           loan_id    account_id         amount    duration     payments\n",
      "count   682.000000    682.000000     682.000000  682.000000   682.000000\n",
      "mean   6172.466276   5824.162757  151410.175953   36.492669  4190.664223\n",
      "std     682.579279   3283.512681  113372.406310   17.075219  2215.830344\n",
      "min    4959.000000      2.000000    4980.000000   12.000000   304.000000\n",
      "25%    5577.500000   2967.000000   66732.000000   24.000000  2477.000000\n",
      "50%    6176.500000   5738.500000  116928.000000   36.000000  3934.000000\n",
      "75%    6752.500000   8686.000000  210654.000000   48.000000  5813.500000\n",
      "max    7308.000000  11362.000000  590820.000000   60.000000  9910.000000\n",
      "------------------------------------------\n"
     ]
    }
   ],
   "source": [
    "df_overview(df_loan)"
   ]
  },
  {
   "cell_type": "markdown",
   "metadata": {},
   "source": [
    "Changes to be made:\n",
    "- `date` to datetime type variable"
   ]
  },
  {
   "cell_type": "code",
   "execution_count": 122,
   "metadata": {},
   "outputs": [],
   "source": [
    "# Convert date to a datetime type variable\n",
    "df_loan['date'] = pd.to_datetime(df_loan['date'])"
   ]
  },
  {
   "cell_type": "code",
   "execution_count": 123,
   "metadata": {},
   "outputs": [],
   "source": [
    "# Rename loan columns\n",
    "df_loan = df_loan.rename(columns={'amount': 'loan_amount', 'duration':'loan_duration', 'payments':'monthly_loan_payment', 'status':'loan_status'})"
   ]
  },
  {
   "cell_type": "code",
   "execution_count": 124,
   "metadata": {},
   "outputs": [
    {
     "name": "stdout",
     "output_type": "stream",
     "text": [
      "\n",
      "Shape of dataframe:\n",
      "\n",
      "892 rows | 4 columns\n",
      "------------------------------------------\n",
      "\n",
      "Sample of dataframe:\n",
      "\n",
      "   card_id  disp_id     type      issued\n",
      "0        1        9     gold  1998-10-16\n",
      "1        2       19  classic  1998-03-13\n",
      "2        3       41     gold  1995-09-03\n",
      "3        4       42  classic  1998-11-26\n",
      "4        5       51   junior  1995-04-24\n",
      "------------------------------------------\n",
      "\n",
      "Data types of dataframe:\n",
      "\n",
      "card_id     int64\n",
      "disp_id     int64\n",
      "type       object\n",
      "issued     object\n",
      "dtype: object\n",
      "------------------------------------------\n",
      "\n",
      "Missing values by % in dataframe\n",
      "\n",
      "card_id    0.0\n",
      "disp_id    0.0\n",
      "type       0.0\n",
      "issued     0.0\n",
      "dtype: float64\n",
      "------------------------------------------\n",
      "\n",
      "Decriptive statistics of dataframe:\n",
      "\n",
      "           card_id       disp_id\n",
      "count   892.000000    892.000000\n",
      "mean    480.855381   3511.862108\n",
      "std     306.933982   2984.373626\n",
      "min       1.000000      9.000000\n",
      "25%     229.750000   1387.000000\n",
      "50%     456.500000   2938.500000\n",
      "75%     684.250000   4459.500000\n",
      "max    1247.000000  13660.000000\n",
      "------------------------------------------\n"
     ]
    }
   ],
   "source": [
    "df_overview(df_card)"
   ]
  },
  {
   "cell_type": "markdown",
   "metadata": {},
   "source": [
    "Changes to be made:\n",
    "- `issued` to datetime variable"
   ]
  },
  {
   "cell_type": "code",
   "execution_count": 125,
   "metadata": {},
   "outputs": [],
   "source": [
    "df_card['issued'] = pd.to_datetime(df_card['issued'])"
   ]
  },
  {
   "cell_type": "code",
   "execution_count": 127,
   "metadata": {},
   "outputs": [
    {
     "name": "stdout",
     "output_type": "stream",
     "text": [
      "\n",
      "Shape of dataframe:\n",
      "\n",
      "77 rows | 16 columns\n",
      "------------------------------------------\n",
      "\n",
      "Sample of dataframe:\n",
      "\n",
      "   district_id           A2               A3       A4  A5  A6  A7  A8  A9  \\\n",
      "0            1  Hl.m. Praha           Prague  1204953   0   0   0   1   1   \n",
      "1            2      Benesov  central Bohemia    88884  80  26   6   2   5   \n",
      "2            3       Beroun  central Bohemia    75232  55  26   4   1   5   \n",
      "3            4       Kladno  central Bohemia   149893  63  29   6   2   6   \n",
      "4            5        Kolin  central Bohemia    95616  65  30   4   1   6   \n",
      "\n",
      "     A10    A11  A12   A13  A14      A15    A16  \n",
      "0  100.0  12541  0.2  0.43  167  85677.0  99107  \n",
      "1   46.7   8507  1.6  1.85  132   2159.0   2674  \n",
      "2   41.7   8980  1.9  2.21  111   2824.0   2813  \n",
      "3   67.4   9753  4.6  5.05  109   5244.0   5892  \n",
      "4   51.4   9307  3.8  4.43  118   2616.0   3040  \n",
      "------------------------------------------\n",
      "\n",
      "Data types of dataframe:\n",
      "\n",
      "district_id      int64\n",
      "A2              object\n",
      "A3              object\n",
      "A4               int64\n",
      "A5               int64\n",
      "A6               int64\n",
      "A7               int64\n",
      "A8               int64\n",
      "A9               int64\n",
      "A10            float64\n",
      "A11              int64\n",
      "A12            float64\n",
      "A13            float64\n",
      "A14              int64\n",
      "A15            float64\n",
      "A16              int64\n",
      "dtype: object\n",
      "------------------------------------------\n",
      "\n",
      "Missing values by % in dataframe\n",
      "\n",
      "district_id    0.000000\n",
      "A2             0.000000\n",
      "A3             0.000000\n",
      "A4             0.000000\n",
      "A5             0.000000\n",
      "A6             0.000000\n",
      "A7             0.000000\n",
      "A8             0.000000\n",
      "A9             0.000000\n",
      "A10            0.000000\n",
      "A11            0.000000\n",
      "A12            1.298701\n",
      "A13            0.000000\n",
      "A14            0.000000\n",
      "A15            1.298701\n",
      "A16            0.000000\n",
      "dtype: float64\n",
      "------------------------------------------\n",
      "\n",
      "Decriptive statistics of dataframe:\n",
      "\n",
      "       district_id            A4          A5         A6         A7         A8  \\\n",
      "count    77.000000  7.700000e+01   77.000000  77.000000  77.000000  77.000000   \n",
      "mean     39.000000  1.338849e+05   48.623377  24.324675   6.272727   1.727273   \n",
      "std      22.371857  1.369135e+05   32.741829  12.780991   4.015222   1.008338   \n",
      "min       1.000000  4.282100e+04    0.000000   0.000000   0.000000   0.000000   \n",
      "25%      20.000000  8.585200e+04   22.000000  16.000000   4.000000   1.000000   \n",
      "50%      39.000000  1.088710e+05   49.000000  25.000000   6.000000   2.000000   \n",
      "75%      58.000000  1.390120e+05   71.000000  32.000000   8.000000   2.000000   \n",
      "max      77.000000  1.204953e+06  151.000000  70.000000  20.000000   5.000000   \n",
      "\n",
      "              A9         A10           A11        A12        A13         A14  \\\n",
      "count  77.000000   77.000000     77.000000  76.000000  77.000000   77.000000   \n",
      "mean    6.259740   63.035065   9031.675325   3.072368   3.787013  116.129870   \n",
      "std     2.435497   16.221727    790.202347   1.664179   1.908480   16.608773   \n",
      "min     1.000000   33.900000   8110.000000   0.200000   0.430000   81.000000   \n",
      "25%     5.000000   51.900000   8512.000000   1.700000   2.310000  105.000000   \n",
      "50%     6.000000   59.800000   8814.000000   2.800000   3.600000  113.000000   \n",
      "75%     8.000000   73.500000   9317.000000   3.850000   4.790000  126.000000   \n",
      "max    11.000000  100.000000  12541.000000   7.300000   9.400000  167.000000   \n",
      "\n",
      "                A15           A16  \n",
      "count     76.000000     77.000000  \n",
      "mean    4850.315789   5030.831169  \n",
      "std     9888.951933  11270.796786  \n",
      "min      818.000000    888.000000  \n",
      "25%     2029.750000   2122.000000  \n",
      "50%     2932.000000   3040.000000  \n",
      "75%     4525.500000   4595.000000  \n",
      "max    85677.000000  99107.000000  \n",
      "------------------------------------------\n"
     ]
    }
   ],
   "source": [
    "df_overview(df_district)"
   ]
  },
  {
   "cell_type": "code",
   "execution_count": 128,
   "metadata": {},
   "outputs": [],
   "source": [
    "df_district = df_district.rename(columns={'A2':'district_name', \n",
    "                                          'A3':'region', \n",
    "                                          'A4':'population', \n",
    "                                          'A5':'nmu_lt499',\n",
    "                                          'A6':'nmu_500to1999', \n",
    "                                          'A7':'nmu_2000to9999', \n",
    "                                          'A8':'nmu_gt10000',\n",
    "                                          'A9':'n_cty', \n",
    "                                          'A10':'ratio_urban', \n",
    "                                          'A11':'avg_salary', \n",
    "                                          'A12':'unemp_95', \n",
    "                                          'A13': 'unemp_96',\n",
    "                                          'A14':'nentrep_p1000', \n",
    "                                          'A15':'ncrimes_95', \n",
    "                                          'A16':'ncrimes_96'})"
   ]
  },
  {
   "cell_type": "markdown",
   "metadata": {},
   "source": [
    "## Merge Dataframes"
   ]
  },
  {
   "cell_type": "code",
   "execution_count": 129,
   "metadata": {},
   "outputs": [],
   "source": [
    "# Time to merge different dateframes\n",
    "df_final = pd.merge(df_account, df_disp, on = 'account_id') #shape: 5369, 7"
   ]
  },
  {
   "cell_type": "code",
   "execution_count": 133,
   "metadata": {},
   "outputs": [],
   "source": [
    "df_final = pd.merge(df_final, df_district, on = 'district_id') # shape: 5369, 22"
   ]
  },
  {
   "cell_type": "code",
   "execution_count": 136,
   "metadata": {},
   "outputs": [],
   "source": [
    "df_final = pd.merge(df_final, df_client, on = 'client_id') #shape: 5369, 25\n",
    "\n",
    "#can drop one of the district_id"
   ]
  },
  {
   "cell_type": "code",
   "execution_count": 139,
   "metadata": {},
   "outputs": [],
   "source": [
    "df_final = pd.merge(df_final, df_card, on='disp_id', how='outer', suffixes=('_disp','_card')) #shape: 5369, 28"
   ]
  },
  {
   "cell_type": "code",
   "execution_count": 142,
   "metadata": {},
   "outputs": [],
   "source": [
    "df_final = pd.merge(df_final, df_loan, on='account_id', how='inner', suffixes=('_account','_loan')) #shape: 827, 34"
   ]
  },
  {
   "cell_type": "markdown",
   "metadata": {},
   "source": [
    "We only keep the account with loans as we'll be using this information to differnetiate between good and bad clients."
   ]
  },
  {
   "cell_type": "code",
   "execution_count": 144,
   "metadata": {},
   "outputs": [
    {
     "data": {
      "text/plain": [
       "682"
      ]
     },
     "execution_count": 144,
     "metadata": {},
     "output_type": "execute_result"
    }
   ],
   "source": [
    "len(df_final['account_id'].unique()) "
   ]
  },
  {
   "cell_type": "markdown",
   "metadata": {},
   "source": [
    "This makes sense as the semi anonymized dataset contains 606 successful and 76 not successful loans."
   ]
  },
  {
   "cell_type": "code",
   "execution_count": 149,
   "metadata": {},
   "outputs": [
    {
     "data": {
      "text/html": [
       "<div>\n",
       "<style scoped>\n",
       "    .dataframe tbody tr th:only-of-type {\n",
       "        vertical-align: middle;\n",
       "    }\n",
       "\n",
       "    .dataframe tbody tr th {\n",
       "        vertical-align: top;\n",
       "    }\n",
       "\n",
       "    .dataframe thead th {\n",
       "        text-align: right;\n",
       "    }\n",
       "</style>\n",
       "<table border=\"1\" class=\"dataframe\">\n",
       "  <thead>\n",
       "    <tr style=\"text-align: right;\">\n",
       "      <th></th>\n",
       "      <th>account_id</th>\n",
       "      <th>district_id_x</th>\n",
       "      <th>stmt_frq</th>\n",
       "      <th>date_account</th>\n",
       "      <th>disp_id</th>\n",
       "      <th>client_id</th>\n",
       "      <th>type_disp</th>\n",
       "      <th>district_name</th>\n",
       "      <th>region</th>\n",
       "      <th>population</th>\n",
       "      <th>nmu_lt499</th>\n",
       "      <th>nmu_500to1999</th>\n",
       "      <th>nmu_2000to9999</th>\n",
       "      <th>nmu_gt10000</th>\n",
       "      <th>n_cty</th>\n",
       "      <th>ratio_urban</th>\n",
       "      <th>avg_salary</th>\n",
       "      <th>unemp_95</th>\n",
       "      <th>unemp_96</th>\n",
       "      <th>nentrep_p1000</th>\n",
       "      <th>ncrimes_95</th>\n",
       "      <th>ncrimes_96</th>\n",
       "      <th>gender</th>\n",
       "      <th>birth_date</th>\n",
       "      <th>district_id_y</th>\n",
       "      <th>card_id</th>\n",
       "      <th>type_card</th>\n",
       "      <th>issued</th>\n",
       "      <th>loan_id</th>\n",
       "      <th>date_loan</th>\n",
       "      <th>loan_amount</th>\n",
       "      <th>loan_duration</th>\n",
       "      <th>monthly_loan_payment</th>\n",
       "      <th>loan_status</th>\n",
       "    </tr>\n",
       "  </thead>\n",
       "  <tbody>\n",
       "    <tr>\n",
       "      <th>0</th>\n",
       "      <td>2350</td>\n",
       "      <td>18</td>\n",
       "      <td>monthly</td>\n",
       "      <td>1996-08-04</td>\n",
       "      <td>2841</td>\n",
       "      <td>2841</td>\n",
       "      <td>OWNER</td>\n",
       "      <td>Pisek</td>\n",
       "      <td>south Bohemia</td>\n",
       "      <td>70699</td>\n",
       "      <td>60</td>\n",
       "      <td>13</td>\n",
       "      <td>2</td>\n",
       "      <td>1</td>\n",
       "      <td>4</td>\n",
       "      <td>65.3</td>\n",
       "      <td>8968</td>\n",
       "      <td>2.8</td>\n",
       "      <td>3.35</td>\n",
       "      <td>131</td>\n",
       "      <td>1740.0</td>\n",
       "      <td>1910</td>\n",
       "      <td>F</td>\n",
       "      <td>1973-04-10</td>\n",
       "      <td>18</td>\n",
       "      <td>446.0</td>\n",
       "      <td>classic</td>\n",
       "      <td>1998-06-04</td>\n",
       "      <td>5451</td>\n",
       "      <td>1997-05-11</td>\n",
       "      <td>159744</td>\n",
       "      <td>48</td>\n",
       "      <td>3328.0</td>\n",
       "      <td>C</td>\n",
       "    </tr>\n",
       "    <tr>\n",
       "      <th>1</th>\n",
       "      <td>9156</td>\n",
       "      <td>18</td>\n",
       "      <td>monthly</td>\n",
       "      <td>1997-09-14</td>\n",
       "      <td>10963</td>\n",
       "      <td>11271</td>\n",
       "      <td>OWNER</td>\n",
       "      <td>Pisek</td>\n",
       "      <td>south Bohemia</td>\n",
       "      <td>70699</td>\n",
       "      <td>60</td>\n",
       "      <td>13</td>\n",
       "      <td>2</td>\n",
       "      <td>1</td>\n",
       "      <td>4</td>\n",
       "      <td>65.3</td>\n",
       "      <td>8968</td>\n",
       "      <td>2.8</td>\n",
       "      <td>3.35</td>\n",
       "      <td>131</td>\n",
       "      <td>1740.0</td>\n",
       "      <td>1910</td>\n",
       "      <td>M</td>\n",
       "      <td>1937-12-08</td>\n",
       "      <td>18</td>\n",
       "      <td>NaN</td>\n",
       "      <td>NaN</td>\n",
       "      <td>NaT</td>\n",
       "      <td>6856</td>\n",
       "      <td>1998-12-01</td>\n",
       "      <td>163332</td>\n",
       "      <td>36</td>\n",
       "      <td>4537.0</td>\n",
       "      <td>C</td>\n",
       "    </tr>\n",
       "    <tr>\n",
       "      <th>2</th>\n",
       "      <td>10973</td>\n",
       "      <td>18</td>\n",
       "      <td>weekly</td>\n",
       "      <td>1993-04-20</td>\n",
       "      <td>13182</td>\n",
       "      <td>13490</td>\n",
       "      <td>OWNER</td>\n",
       "      <td>Pisek</td>\n",
       "      <td>south Bohemia</td>\n",
       "      <td>70699</td>\n",
       "      <td>60</td>\n",
       "      <td>13</td>\n",
       "      <td>2</td>\n",
       "      <td>1</td>\n",
       "      <td>4</td>\n",
       "      <td>65.3</td>\n",
       "      <td>8968</td>\n",
       "      <td>2.8</td>\n",
       "      <td>3.35</td>\n",
       "      <td>131</td>\n",
       "      <td>1740.0</td>\n",
       "      <td>1910</td>\n",
       "      <td>F</td>\n",
       "      <td>1969-05-25</td>\n",
       "      <td>18</td>\n",
       "      <td>NaN</td>\n",
       "      <td>NaN</td>\n",
       "      <td>NaT</td>\n",
       "      <td>7235</td>\n",
       "      <td>1993-10-13</td>\n",
       "      <td>154416</td>\n",
       "      <td>48</td>\n",
       "      <td>3217.0</td>\n",
       "      <td>A</td>\n",
       "    </tr>\n",
       "    <tr>\n",
       "      <th>3</th>\n",
       "      <td>2</td>\n",
       "      <td>1</td>\n",
       "      <td>monthly</td>\n",
       "      <td>1993-02-26</td>\n",
       "      <td>2</td>\n",
       "      <td>2</td>\n",
       "      <td>OWNER</td>\n",
       "      <td>Hl.m. Praha</td>\n",
       "      <td>Prague</td>\n",
       "      <td>1204953</td>\n",
       "      <td>0</td>\n",
       "      <td>0</td>\n",
       "      <td>0</td>\n",
       "      <td>1</td>\n",
       "      <td>1</td>\n",
       "      <td>100.0</td>\n",
       "      <td>12541</td>\n",
       "      <td>0.2</td>\n",
       "      <td>0.43</td>\n",
       "      <td>167</td>\n",
       "      <td>85677.0</td>\n",
       "      <td>99107</td>\n",
       "      <td>M</td>\n",
       "      <td>1945-02-04</td>\n",
       "      <td>1</td>\n",
       "      <td>NaN</td>\n",
       "      <td>NaN</td>\n",
       "      <td>NaT</td>\n",
       "      <td>4959</td>\n",
       "      <td>1994-01-05</td>\n",
       "      <td>80952</td>\n",
       "      <td>24</td>\n",
       "      <td>3373.0</td>\n",
       "      <td>A</td>\n",
       "    </tr>\n",
       "    <tr>\n",
       "      <th>4</th>\n",
       "      <td>2</td>\n",
       "      <td>1</td>\n",
       "      <td>monthly</td>\n",
       "      <td>1993-02-26</td>\n",
       "      <td>3</td>\n",
       "      <td>3</td>\n",
       "      <td>DISPONENT</td>\n",
       "      <td>Hl.m. Praha</td>\n",
       "      <td>Prague</td>\n",
       "      <td>1204953</td>\n",
       "      <td>0</td>\n",
       "      <td>0</td>\n",
       "      <td>0</td>\n",
       "      <td>1</td>\n",
       "      <td>1</td>\n",
       "      <td>100.0</td>\n",
       "      <td>12541</td>\n",
       "      <td>0.2</td>\n",
       "      <td>0.43</td>\n",
       "      <td>167</td>\n",
       "      <td>85677.0</td>\n",
       "      <td>99107</td>\n",
       "      <td>F</td>\n",
       "      <td>1940-10-09</td>\n",
       "      <td>1</td>\n",
       "      <td>NaN</td>\n",
       "      <td>NaN</td>\n",
       "      <td>NaT</td>\n",
       "      <td>4959</td>\n",
       "      <td>1994-01-05</td>\n",
       "      <td>80952</td>\n",
       "      <td>24</td>\n",
       "      <td>3373.0</td>\n",
       "      <td>A</td>\n",
       "    </tr>\n",
       "  </tbody>\n",
       "</table>\n",
       "</div>"
      ],
      "text/plain": [
       "   account_id  district_id_x stmt_frq date_account  disp_id  client_id  \\\n",
       "0        2350             18  monthly   1996-08-04     2841       2841   \n",
       "1        9156             18  monthly   1997-09-14    10963      11271   \n",
       "2       10973             18   weekly   1993-04-20    13182      13490   \n",
       "3           2              1  monthly   1993-02-26        2          2   \n",
       "4           2              1  monthly   1993-02-26        3          3   \n",
       "\n",
       "   type_disp district_name         region  population  nmu_lt499  \\\n",
       "0      OWNER         Pisek  south Bohemia       70699         60   \n",
       "1      OWNER         Pisek  south Bohemia       70699         60   \n",
       "2      OWNER         Pisek  south Bohemia       70699         60   \n",
       "3      OWNER   Hl.m. Praha         Prague     1204953          0   \n",
       "4  DISPONENT   Hl.m. Praha         Prague     1204953          0   \n",
       "\n",
       "   nmu_500to1999  nmu_2000to9999  nmu_gt10000  n_cty  ratio_urban  avg_salary  \\\n",
       "0             13               2            1      4         65.3        8968   \n",
       "1             13               2            1      4         65.3        8968   \n",
       "2             13               2            1      4         65.3        8968   \n",
       "3              0               0            1      1        100.0       12541   \n",
       "4              0               0            1      1        100.0       12541   \n",
       "\n",
       "   unemp_95  unemp_96  nentrep_p1000  ncrimes_95  ncrimes_96 gender  \\\n",
       "0       2.8      3.35            131      1740.0        1910      F   \n",
       "1       2.8      3.35            131      1740.0        1910      M   \n",
       "2       2.8      3.35            131      1740.0        1910      F   \n",
       "3       0.2      0.43            167     85677.0       99107      M   \n",
       "4       0.2      0.43            167     85677.0       99107      F   \n",
       "\n",
       "  birth_date  district_id_y  card_id type_card     issued  loan_id  date_loan  \\\n",
       "0 1973-04-10             18    446.0   classic 1998-06-04     5451 1997-05-11   \n",
       "1 1937-12-08             18      NaN       NaN        NaT     6856 1998-12-01   \n",
       "2 1969-05-25             18      NaN       NaN        NaT     7235 1993-10-13   \n",
       "3 1945-02-04              1      NaN       NaN        NaT     4959 1994-01-05   \n",
       "4 1940-10-09              1      NaN       NaN        NaT     4959 1994-01-05   \n",
       "\n",
       "   loan_amount  loan_duration  monthly_loan_payment loan_status  \n",
       "0       159744             48                3328.0           C  \n",
       "1       163332             36                4537.0           C  \n",
       "2       154416             48                3217.0           A  \n",
       "3        80952             24                3373.0           A  \n",
       "4        80952             24                3373.0           A  "
      ]
     },
     "execution_count": 149,
     "metadata": {},
     "output_type": "execute_result"
    }
   ],
   "source": [
    "df_final.head()"
   ]
  },
  {
   "cell_type": "code",
   "execution_count": 151,
   "metadata": {},
   "outputs": [],
   "source": [
    "# all transactions for accounts with loans\n",
    "df_trans_account = pd.merge(df_trans, df_final[['account_id','date_loan']], on = 'account_id') #shape: 233627, 11 "
   ]
  },
  {
   "cell_type": "code",
   "execution_count": 153,
   "metadata": {},
   "outputs": [],
   "source": [
    "#Drop duplicate transactions\n",
    "df_trans_account = df_trans_account.drop_duplicates() #shape: 191556, 11"
   ]
  },
  {
   "cell_type": "code",
   "execution_count": 157,
   "metadata": {},
   "outputs": [],
   "source": [
    "# Gets the difference between the date of the loan and the date of the transaction\n",
    "df_trans_account['date_diff'] = (df_trans_account['date_loan'] - df_trans_account['date']) "
   ]
  },
  {
   "cell_type": "code",
   "execution_count": 162,
   "metadata": {},
   "outputs": [],
   "source": [
    "# Let's drop transactions that occured after the loan date\n",
    "df_trans_account.drop(df_trans_account[df_trans_account['date_diff'] < datetime.timedelta(0)].index, inplace=True) #shape 54860, 12"
   ]
  },
  {
   "cell_type": "code",
   "execution_count": 164,
   "metadata": {},
   "outputs": [],
   "source": [
    "# Here, we get get counts of the different transaction types, operations, and payment types\n",
    "df_trans_type_counts = df_trans_account.groupby('account_id')['trans_type'].value_counts().to_frame()\n",
    "df_operation_counts = df_trans_account.groupby('account_id')['operation'].value_counts().to_frame()\n",
    "df_payment_type_counts = df_trans_account.groupby('account_id')['trans_payment_type'].value_counts().to_frame()"
   ]
  },
  {
   "cell_type": "code",
   "execution_count": 177,
   "metadata": {},
   "outputs": [],
   "source": [
    "df_trans_type_counts.index = df_trans_type_counts.index.set_names(['account_id', 'transaction_type'])\n",
    "df_operation_counts.index = df_operation_counts.index.set_names(['account_id', 'operation_type'])\n",
    "df_payment_type_counts.index = df_payment_type_counts.index.set_names(['account_id', 'payment_type'])"
   ]
  },
  {
   "cell_type": "code",
   "execution_count": 179,
   "metadata": {},
   "outputs": [],
   "source": [
    "df_trans_type_counts.reset_index(inplace=True)\n",
    "df_operation_counts.reset_index(inplace=True)\n",
    "df_payment_type_counts.reset_index(inplace=True)"
   ]
  },
  {
   "cell_type": "code",
   "execution_count": 180,
   "metadata": {},
   "outputs": [],
   "source": [
    "# flatten the counts using a pivot table\n",
    "df_trans_type_counts = df_trans_type_counts.pivot(index='account_id', columns='transaction_type', values='trans_type').fillna(0).reset_index(inplace=False)\n",
    "df_operation_counts = df_operation_counts.pivot(index='account_id', columns='operation_type', values='operation').fillna(0).reset_index(inplace=False)\n",
    "df_payment_type_counts = df_payment_type_counts.pivot(index='account_id', columns='payment_type', values='trans_payment_type').fillna(0).reset_index(inplace=False)"
   ]
  },
  {
   "cell_type": "code",
   "execution_count": 182,
   "metadata": {},
   "outputs": [],
   "source": [
    "df_trans_type_counts.columns = ['num_trans_' + str(col) for col in df_trans_type_counts.columns]\n",
    "df_operation_counts.columns = ['num_ops_' + str(col) for col in df_operation_counts.columns]\n",
    "df_payment_type_counts.columns = ['num_pay_' + str(col) for col in df_payment_type_counts.columns]"
   ]
  },
  {
   "cell_type": "code",
   "execution_count": 184,
   "metadata": {},
   "outputs": [],
   "source": [
    "df_trans_type_counts.rename(columns={'num_trans_account_id':'account_id'}, inplace=True)\n",
    "df_operation_counts.rename(columns={'num_ops_account_id':'account_id'}, inplace=True)\n",
    "df_payment_type_counts.rename(columns={'num_pay_account_id':'account_id'}, inplace=True)"
   ]
  },
  {
   "cell_type": "code",
   "execution_count": 188,
   "metadata": {},
   "outputs": [],
   "source": [
    "#Create new transaction counts data frame \n",
    "counts_dataframes = [df_trans_type_counts, df_operation_counts, df_payment_type_counts]\n",
    "df_counts = reduce(lambda left,right: pd.merge(left,right,on='account_id'), counts_dataframes)#shape: 682,17"
   ]
  },
  {
   "cell_type": "code",
   "execution_count": 189,
   "metadata": {},
   "outputs": [],
   "source": [
    "df_final = pd.merge(df_final, df_counts, on = 'account_id') #shape: 827, 50"
   ]
  },
  {
   "cell_type": "code",
   "execution_count": 192,
   "metadata": {},
   "outputs": [
    {
     "data": {
      "text/html": [
       "<div>\n",
       "<style scoped>\n",
       "    .dataframe tbody tr th:only-of-type {\n",
       "        vertical-align: middle;\n",
       "    }\n",
       "\n",
       "    .dataframe tbody tr th {\n",
       "        vertical-align: top;\n",
       "    }\n",
       "\n",
       "    .dataframe thead th {\n",
       "        text-align: right;\n",
       "    }\n",
       "</style>\n",
       "<table border=\"1\" class=\"dataframe\">\n",
       "  <thead>\n",
       "    <tr style=\"text-align: right;\">\n",
       "      <th></th>\n",
       "      <th>account_id</th>\n",
       "      <th>district_id_x</th>\n",
       "      <th>stmt_frq</th>\n",
       "      <th>date_account</th>\n",
       "      <th>disp_id</th>\n",
       "      <th>client_id</th>\n",
       "      <th>type_disp</th>\n",
       "      <th>district_name</th>\n",
       "      <th>region</th>\n",
       "      <th>population</th>\n",
       "      <th>nmu_lt499</th>\n",
       "      <th>nmu_500to1999</th>\n",
       "      <th>nmu_2000to9999</th>\n",
       "      <th>nmu_gt10000</th>\n",
       "      <th>n_cty</th>\n",
       "      <th>ratio_urban</th>\n",
       "      <th>avg_salary</th>\n",
       "      <th>unemp_95</th>\n",
       "      <th>unemp_96</th>\n",
       "      <th>nentrep_p1000</th>\n",
       "      <th>ncrimes_95</th>\n",
       "      <th>ncrimes_96</th>\n",
       "      <th>gender</th>\n",
       "      <th>birth_date</th>\n",
       "      <th>district_id_y</th>\n",
       "      <th>card_id</th>\n",
       "      <th>type_card</th>\n",
       "      <th>issued</th>\n",
       "      <th>loan_id</th>\n",
       "      <th>date_loan</th>\n",
       "      <th>loan_amount</th>\n",
       "      <th>loan_duration</th>\n",
       "      <th>monthly_loan_payment</th>\n",
       "      <th>loan_status</th>\n",
       "      <th>num_trans_VYBER</th>\n",
       "      <th>num_trans_credit</th>\n",
       "      <th>num_trans_withdrawal</th>\n",
       "      <th>num_ops_c_cash</th>\n",
       "      <th>num_ops_cc_withdrawal</th>\n",
       "      <th>num_ops_col_bank</th>\n",
       "      <th>num_ops_remittance</th>\n",
       "      <th>num_ops_unknown</th>\n",
       "      <th>num_ops_withdrawal_c</th>\n",
       "      <th>num_pay_household</th>\n",
       "      <th>num_pay_insurance</th>\n",
       "      <th>num_pay_int_cred</th>\n",
       "      <th>num_pay_loan</th>\n",
       "      <th>num_pay_sanc_int</th>\n",
       "      <th>num_pay_statement</th>\n",
       "      <th>num_pay_unknown</th>\n",
       "    </tr>\n",
       "  </thead>\n",
       "  <tbody>\n",
       "    <tr>\n",
       "      <th>0</th>\n",
       "      <td>2350</td>\n",
       "      <td>18</td>\n",
       "      <td>monthly</td>\n",
       "      <td>1996-08-04</td>\n",
       "      <td>2841</td>\n",
       "      <td>2841</td>\n",
       "      <td>OWNER</td>\n",
       "      <td>Pisek</td>\n",
       "      <td>south Bohemia</td>\n",
       "      <td>70699</td>\n",
       "      <td>60</td>\n",
       "      <td>13</td>\n",
       "      <td>2</td>\n",
       "      <td>1</td>\n",
       "      <td>4</td>\n",
       "      <td>65.3</td>\n",
       "      <td>8968</td>\n",
       "      <td>2.8</td>\n",
       "      <td>3.35</td>\n",
       "      <td>131</td>\n",
       "      <td>1740.0</td>\n",
       "      <td>1910</td>\n",
       "      <td>F</td>\n",
       "      <td>1973-04-10</td>\n",
       "      <td>18</td>\n",
       "      <td>446.0</td>\n",
       "      <td>classic</td>\n",
       "      <td>1998-06-04</td>\n",
       "      <td>5451</td>\n",
       "      <td>1997-05-11</td>\n",
       "      <td>159744</td>\n",
       "      <td>48</td>\n",
       "      <td>3328.0</td>\n",
       "      <td>C</td>\n",
       "      <td>0.0</td>\n",
       "      <td>15.0</td>\n",
       "      <td>13.0</td>\n",
       "      <td>10.0</td>\n",
       "      <td>0.0</td>\n",
       "      <td>0.0</td>\n",
       "      <td>3.0</td>\n",
       "      <td>5.0</td>\n",
       "      <td>10.0</td>\n",
       "      <td>2.0</td>\n",
       "      <td>0.0</td>\n",
       "      <td>5.0</td>\n",
       "      <td>0.0</td>\n",
       "      <td>0.0</td>\n",
       "      <td>2.0</td>\n",
       "      <td>19.0</td>\n",
       "    </tr>\n",
       "    <tr>\n",
       "      <th>1</th>\n",
       "      <td>9156</td>\n",
       "      <td>18</td>\n",
       "      <td>monthly</td>\n",
       "      <td>1997-09-14</td>\n",
       "      <td>10963</td>\n",
       "      <td>11271</td>\n",
       "      <td>OWNER</td>\n",
       "      <td>Pisek</td>\n",
       "      <td>south Bohemia</td>\n",
       "      <td>70699</td>\n",
       "      <td>60</td>\n",
       "      <td>13</td>\n",
       "      <td>2</td>\n",
       "      <td>1</td>\n",
       "      <td>4</td>\n",
       "      <td>65.3</td>\n",
       "      <td>8968</td>\n",
       "      <td>2.8</td>\n",
       "      <td>3.35</td>\n",
       "      <td>131</td>\n",
       "      <td>1740.0</td>\n",
       "      <td>1910</td>\n",
       "      <td>M</td>\n",
       "      <td>1937-12-08</td>\n",
       "      <td>18</td>\n",
       "      <td>NaN</td>\n",
       "      <td>NaN</td>\n",
       "      <td>NaT</td>\n",
       "      <td>6856</td>\n",
       "      <td>1998-12-01</td>\n",
       "      <td>163332</td>\n",
       "      <td>36</td>\n",
       "      <td>4537.0</td>\n",
       "      <td>C</td>\n",
       "      <td>4.0</td>\n",
       "      <td>34.0</td>\n",
       "      <td>28.0</td>\n",
       "      <td>11.0</td>\n",
       "      <td>0.0</td>\n",
       "      <td>0.0</td>\n",
       "      <td>0.0</td>\n",
       "      <td>23.0</td>\n",
       "      <td>32.0</td>\n",
       "      <td>0.0</td>\n",
       "      <td>0.0</td>\n",
       "      <td>23.0</td>\n",
       "      <td>0.0</td>\n",
       "      <td>0.0</td>\n",
       "      <td>6.0</td>\n",
       "      <td>37.0</td>\n",
       "    </tr>\n",
       "    <tr>\n",
       "      <th>2</th>\n",
       "      <td>10973</td>\n",
       "      <td>18</td>\n",
       "      <td>weekly</td>\n",
       "      <td>1993-04-20</td>\n",
       "      <td>13182</td>\n",
       "      <td>13490</td>\n",
       "      <td>OWNER</td>\n",
       "      <td>Pisek</td>\n",
       "      <td>south Bohemia</td>\n",
       "      <td>70699</td>\n",
       "      <td>60</td>\n",
       "      <td>13</td>\n",
       "      <td>2</td>\n",
       "      <td>1</td>\n",
       "      <td>4</td>\n",
       "      <td>65.3</td>\n",
       "      <td>8968</td>\n",
       "      <td>2.8</td>\n",
       "      <td>3.35</td>\n",
       "      <td>131</td>\n",
       "      <td>1740.0</td>\n",
       "      <td>1910</td>\n",
       "      <td>F</td>\n",
       "      <td>1969-05-25</td>\n",
       "      <td>18</td>\n",
       "      <td>NaN</td>\n",
       "      <td>NaN</td>\n",
       "      <td>NaT</td>\n",
       "      <td>7235</td>\n",
       "      <td>1993-10-13</td>\n",
       "      <td>154416</td>\n",
       "      <td>48</td>\n",
       "      <td>3217.0</td>\n",
       "      <td>A</td>\n",
       "      <td>2.0</td>\n",
       "      <td>16.0</td>\n",
       "      <td>14.0</td>\n",
       "      <td>10.0</td>\n",
       "      <td>0.0</td>\n",
       "      <td>0.0</td>\n",
       "      <td>0.0</td>\n",
       "      <td>6.0</td>\n",
       "      <td>16.0</td>\n",
       "      <td>0.0</td>\n",
       "      <td>0.0</td>\n",
       "      <td>6.0</td>\n",
       "      <td>0.0</td>\n",
       "      <td>0.0</td>\n",
       "      <td>4.0</td>\n",
       "      <td>22.0</td>\n",
       "    </tr>\n",
       "    <tr>\n",
       "      <th>3</th>\n",
       "      <td>2</td>\n",
       "      <td>1</td>\n",
       "      <td>monthly</td>\n",
       "      <td>1993-02-26</td>\n",
       "      <td>2</td>\n",
       "      <td>2</td>\n",
       "      <td>OWNER</td>\n",
       "      <td>Hl.m. Praha</td>\n",
       "      <td>Prague</td>\n",
       "      <td>1204953</td>\n",
       "      <td>0</td>\n",
       "      <td>0</td>\n",
       "      <td>0</td>\n",
       "      <td>1</td>\n",
       "      <td>1</td>\n",
       "      <td>100.0</td>\n",
       "      <td>12541</td>\n",
       "      <td>0.2</td>\n",
       "      <td>0.43</td>\n",
       "      <td>167</td>\n",
       "      <td>85677.0</td>\n",
       "      <td>99107</td>\n",
       "      <td>M</td>\n",
       "      <td>1945-02-04</td>\n",
       "      <td>1</td>\n",
       "      <td>NaN</td>\n",
       "      <td>NaN</td>\n",
       "      <td>NaT</td>\n",
       "      <td>4959</td>\n",
       "      <td>1994-01-05</td>\n",
       "      <td>80952</td>\n",
       "      <td>24</td>\n",
       "      <td>3373.0</td>\n",
       "      <td>A</td>\n",
       "      <td>3.0</td>\n",
       "      <td>22.0</td>\n",
       "      <td>30.0</td>\n",
       "      <td>2.0</td>\n",
       "      <td>0.0</td>\n",
       "      <td>10.0</td>\n",
       "      <td>6.0</td>\n",
       "      <td>10.0</td>\n",
       "      <td>27.0</td>\n",
       "      <td>6.0</td>\n",
       "      <td>0.0</td>\n",
       "      <td>10.0</td>\n",
       "      <td>0.0</td>\n",
       "      <td>0.0</td>\n",
       "      <td>6.0</td>\n",
       "      <td>33.0</td>\n",
       "    </tr>\n",
       "    <tr>\n",
       "      <th>4</th>\n",
       "      <td>2</td>\n",
       "      <td>1</td>\n",
       "      <td>monthly</td>\n",
       "      <td>1993-02-26</td>\n",
       "      <td>3</td>\n",
       "      <td>3</td>\n",
       "      <td>DISPONENT</td>\n",
       "      <td>Hl.m. Praha</td>\n",
       "      <td>Prague</td>\n",
       "      <td>1204953</td>\n",
       "      <td>0</td>\n",
       "      <td>0</td>\n",
       "      <td>0</td>\n",
       "      <td>1</td>\n",
       "      <td>1</td>\n",
       "      <td>100.0</td>\n",
       "      <td>12541</td>\n",
       "      <td>0.2</td>\n",
       "      <td>0.43</td>\n",
       "      <td>167</td>\n",
       "      <td>85677.0</td>\n",
       "      <td>99107</td>\n",
       "      <td>F</td>\n",
       "      <td>1940-10-09</td>\n",
       "      <td>1</td>\n",
       "      <td>NaN</td>\n",
       "      <td>NaN</td>\n",
       "      <td>NaT</td>\n",
       "      <td>4959</td>\n",
       "      <td>1994-01-05</td>\n",
       "      <td>80952</td>\n",
       "      <td>24</td>\n",
       "      <td>3373.0</td>\n",
       "      <td>A</td>\n",
       "      <td>3.0</td>\n",
       "      <td>22.0</td>\n",
       "      <td>30.0</td>\n",
       "      <td>2.0</td>\n",
       "      <td>0.0</td>\n",
       "      <td>10.0</td>\n",
       "      <td>6.0</td>\n",
       "      <td>10.0</td>\n",
       "      <td>27.0</td>\n",
       "      <td>6.0</td>\n",
       "      <td>0.0</td>\n",
       "      <td>10.0</td>\n",
       "      <td>0.0</td>\n",
       "      <td>0.0</td>\n",
       "      <td>6.0</td>\n",
       "      <td>33.0</td>\n",
       "    </tr>\n",
       "  </tbody>\n",
       "</table>\n",
       "</div>"
      ],
      "text/plain": [
       "   account_id  district_id_x stmt_frq date_account  disp_id  client_id  \\\n",
       "0        2350             18  monthly   1996-08-04     2841       2841   \n",
       "1        9156             18  monthly   1997-09-14    10963      11271   \n",
       "2       10973             18   weekly   1993-04-20    13182      13490   \n",
       "3           2              1  monthly   1993-02-26        2          2   \n",
       "4           2              1  monthly   1993-02-26        3          3   \n",
       "\n",
       "   type_disp district_name         region  population  nmu_lt499  \\\n",
       "0      OWNER         Pisek  south Bohemia       70699         60   \n",
       "1      OWNER         Pisek  south Bohemia       70699         60   \n",
       "2      OWNER         Pisek  south Bohemia       70699         60   \n",
       "3      OWNER   Hl.m. Praha         Prague     1204953          0   \n",
       "4  DISPONENT   Hl.m. Praha         Prague     1204953          0   \n",
       "\n",
       "   nmu_500to1999  nmu_2000to9999  nmu_gt10000  n_cty  ratio_urban  avg_salary  \\\n",
       "0             13               2            1      4         65.3        8968   \n",
       "1             13               2            1      4         65.3        8968   \n",
       "2             13               2            1      4         65.3        8968   \n",
       "3              0               0            1      1        100.0       12541   \n",
       "4              0               0            1      1        100.0       12541   \n",
       "\n",
       "   unemp_95  unemp_96  nentrep_p1000  ncrimes_95  ncrimes_96 gender  \\\n",
       "0       2.8      3.35            131      1740.0        1910      F   \n",
       "1       2.8      3.35            131      1740.0        1910      M   \n",
       "2       2.8      3.35            131      1740.0        1910      F   \n",
       "3       0.2      0.43            167     85677.0       99107      M   \n",
       "4       0.2      0.43            167     85677.0       99107      F   \n",
       "\n",
       "  birth_date  district_id_y  card_id type_card     issued  loan_id  date_loan  \\\n",
       "0 1973-04-10             18    446.0   classic 1998-06-04     5451 1997-05-11   \n",
       "1 1937-12-08             18      NaN       NaN        NaT     6856 1998-12-01   \n",
       "2 1969-05-25             18      NaN       NaN        NaT     7235 1993-10-13   \n",
       "3 1945-02-04              1      NaN       NaN        NaT     4959 1994-01-05   \n",
       "4 1940-10-09              1      NaN       NaN        NaT     4959 1994-01-05   \n",
       "\n",
       "   loan_amount  loan_duration  monthly_loan_payment loan_status  \\\n",
       "0       159744             48                3328.0           C   \n",
       "1       163332             36                4537.0           C   \n",
       "2       154416             48                3217.0           A   \n",
       "3        80952             24                3373.0           A   \n",
       "4        80952             24                3373.0           A   \n",
       "\n",
       "   num_trans_VYBER  num_trans_credit  num_trans_withdrawal  num_ops_c_cash  \\\n",
       "0              0.0              15.0                  13.0            10.0   \n",
       "1              4.0              34.0                  28.0            11.0   \n",
       "2              2.0              16.0                  14.0            10.0   \n",
       "3              3.0              22.0                  30.0             2.0   \n",
       "4              3.0              22.0                  30.0             2.0   \n",
       "\n",
       "   num_ops_cc_withdrawal  num_ops_col_bank  num_ops_remittance  \\\n",
       "0                    0.0               0.0                 3.0   \n",
       "1                    0.0               0.0                 0.0   \n",
       "2                    0.0               0.0                 0.0   \n",
       "3                    0.0              10.0                 6.0   \n",
       "4                    0.0              10.0                 6.0   \n",
       "\n",
       "   num_ops_unknown  num_ops_withdrawal_c  num_pay_household  \\\n",
       "0              5.0                  10.0                2.0   \n",
       "1             23.0                  32.0                0.0   \n",
       "2              6.0                  16.0                0.0   \n",
       "3             10.0                  27.0                6.0   \n",
       "4             10.0                  27.0                6.0   \n",
       "\n",
       "   num_pay_insurance  num_pay_int_cred  num_pay_loan  num_pay_sanc_int  \\\n",
       "0                0.0               5.0           0.0               0.0   \n",
       "1                0.0              23.0           0.0               0.0   \n",
       "2                0.0               6.0           0.0               0.0   \n",
       "3                0.0              10.0           0.0               0.0   \n",
       "4                0.0              10.0           0.0               0.0   \n",
       "\n",
       "   num_pay_statement  num_pay_unknown  \n",
       "0                2.0             19.0  \n",
       "1                6.0             37.0  \n",
       "2                4.0             22.0  \n",
       "3                6.0             33.0  \n",
       "4                6.0             33.0  "
      ]
     },
     "execution_count": 192,
     "metadata": {},
     "output_type": "execute_result"
    }
   ],
   "source": [
    "df_final.head()"
   ]
  },
  {
   "cell_type": "markdown",
   "metadata": {},
   "source": [
    "Now we have a dataframe with our accounts which have loans and different counts of their transaction information."
   ]
  },
  {
   "cell_type": "markdown",
   "metadata": {},
   "source": [
    "Most lenders ask to see at least two-three months' worth of statements before they issue you a loan.\n",
    "\n",
    "Let's take a look at the account balance before the loan date for the past 3 months."
   ]
  },
  {
   "cell_type": "code",
   "execution_count": 193,
   "metadata": {},
   "outputs": [],
   "source": [
    "df_trans_account_copy = df_trans_account.copy()"
   ]
  },
  {
   "cell_type": "code",
   "execution_count": 195,
   "metadata": {},
   "outputs": [],
   "source": [
    "# Let's take a look at transactions within different time frames upto 3 months\n",
    "df_trans_account_30 = df_trans_account_copy.copy()\n",
    "df_trans_account_60 = df_trans_account_copy.copy()\n",
    "df_trans_account_90 = df_trans_account_copy.copy()"
   ]
  },
  {
   "cell_type": "code",
   "execution_count": 196,
   "metadata": {},
   "outputs": [],
   "source": [
    "# Reducing transactions by months (30, 60, 90 days)\n",
    "df_trans_account_30.drop(df_trans_account_30[df_trans_account_30['date_diff'] > datetime.timedelta(30)].index, inplace=True)\n",
    "df_trans_account_60.drop(df_trans_account_60[df_trans_account_60['date_diff'] > datetime.timedelta(60)].index, inplace=True)\n",
    "df_trans_account_90.drop(df_trans_account_90[df_trans_account_90['date_diff'] > datetime.timedelta(90)].index, inplace=True)"
   ]
  },
  {
   "cell_type": "code",
   "execution_count": 197,
   "metadata": {},
   "outputs": [
    {
     "data": {
      "text/plain": [
       "(4960, 12)"
      ]
     },
     "execution_count": 197,
     "metadata": {},
     "output_type": "execute_result"
    }
   ],
   "source": [
    "df_trans_account_30.shape"
   ]
  },
  {
   "cell_type": "code",
   "execution_count": 198,
   "metadata": {},
   "outputs": [
    {
     "data": {
      "text/plain": [
       "(14316, 12)"
      ]
     },
     "execution_count": 198,
     "metadata": {},
     "output_type": "execute_result"
    }
   ],
   "source": [
    "df_trans_account_90.shape\n",
    "\n",
    "#Makes sense as there are more transaction with more time"
   ]
  },
  {
   "cell_type": "code",
   "execution_count": 199,
   "metadata": {},
   "outputs": [],
   "source": [
    "mon_1_balance = df_trans_account_30.groupby('account_id')['balance'].agg(['min','max','mean','count']).reset_index()\n",
    "mon_2_balance = df_trans_account_60.groupby('account_id')['balance'].agg(['min','max','mean','count']).reset_index()\n",
    "mon_3_balance = df_trans_account_90.groupby('account_id')['balance'].agg(['min','max','mean','count']).reset_index()"
   ]
  },
  {
   "cell_type": "code",
   "execution_count": 200,
   "metadata": {},
   "outputs": [],
   "source": [
    "mon_1_balance.rename(columns = {'min':'min1','max':'max1','mean':'mean1','count':'count1'}, inplace=True)\n",
    "mon_2_balance.rename(columns = {'min':'min2','max':'max2','mean':'mean2','count':'count2'}, inplace=True)\n",
    "mon_3_balance.rename(columns = {'min':'min3','max':'max3','mean':'mean3','count':'count3'}, inplace=True)"
   ]
  },
  {
   "cell_type": "code",
   "execution_count": 201,
   "metadata": {},
   "outputs": [],
   "source": [
    "#Created new client data frame with different balance statistics for different time frames\n",
    "balance_dataframes = [df_final, mon_1_balance, mon_2_balance, mon_3_balance]\n",
    "df_final = reduce(lambda left,right: pd.merge(left,right,on='account_id'), balance_dataframes)#shape:827,62 "
   ]
  },
  {
   "cell_type": "code",
   "execution_count": 202,
   "metadata": {},
   "outputs": [],
   "source": [
    "# Let's focus on the owners of the account but we'll keep a count if there are multiple people on an account \n",
    "df_num_clients = df_final.groupby('account_id', as_index=False)['type_disp'].count().rename(columns={'type_disp':'num_clients'})"
   ]
  },
  {
   "cell_type": "code",
   "execution_count": 205,
   "metadata": {},
   "outputs": [],
   "source": [
    "df_final = pd.merge(df_final, df_num_clients, on = 'account_id')"
   ]
  },
  {
   "cell_type": "code",
   "execution_count": 208,
   "metadata": {},
   "outputs": [],
   "source": [
    "df_final_owner = df_final[df_final['type_disp']=='OWNER']"
   ]
  },
  {
   "cell_type": "code",
   "execution_count": 209,
   "metadata": {},
   "outputs": [
    {
     "data": {
      "text/plain": [
       "(682, 63)"
      ]
     },
     "execution_count": 209,
     "metadata": {},
     "output_type": "execute_result"
    }
   ],
   "source": [
    "df_final_owner.shape"
   ]
  },
  {
   "cell_type": "markdown",
   "metadata": {},
   "source": [
    "Our final dataframe that will be used will have accounts which have loans and different counts of their transaction information with a focus on the account balance before the loan date for the past 3 months."
   ]
  },
  {
   "cell_type": "markdown",
   "metadata": {},
   "source": [
    "## Save our dataframe"
   ]
  },
  {
   "cell_type": "code",
   "execution_count": 210,
   "metadata": {},
   "outputs": [],
   "source": [
    "df_final_owner.to_csv('csv_files/trans_csv/df_final_owner.csv')"
   ]
  },
  {
   "cell_type": "code",
   "execution_count": null,
   "metadata": {},
   "outputs": [],
   "source": []
  }
 ],
 "metadata": {
  "kernelspec": {
   "display_name": "loan_venv",
   "language": "python",
   "name": "loan_venv"
  },
  "language_info": {
   "codemirror_mode": {
    "name": "ipython",
    "version": 3
   },
   "file_extension": ".py",
   "mimetype": "text/x-python",
   "name": "python",
   "nbconvert_exporter": "python",
   "pygments_lexer": "ipython3",
   "version": "3.7.4"
  }
 },
 "nbformat": 4,
 "nbformat_minor": 2
}
